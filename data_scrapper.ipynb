{
 "cells": [
  {
   "cell_type": "code",
   "execution_count": 26,
   "metadata": {},
   "outputs": [
    {
     "name": "stdout",
     "output_type": "stream",
     "text": [
      "Page 1 scraped successfully.\n",
      "Page 2 scraped successfully.\n",
      "Page 3 scraped successfully.\n",
      "Page 4 scraped successfully.\n",
      "Page 5 scraped successfully.\n",
      "Page 6 scraped successfully.\n",
      "Page 7 scraped successfully.\n",
      "Data saved to free_courses.csv\n"
     ]
    }
   ],
   "source": [
    "import requests\n",
    "from bs4 import BeautifulSoup\n",
    "import pandas as pd\n",
    "\n",
    "base_url = \"https://courses.analyticsvidhya.com/collections/courses?page=\"\n",
    "\n",
    "free_courses = []\n",
    "\n",
    "for page_num in range(1, 8):\n",
    "    url = base_url + str(page_num)\n",
    "    response = requests.get(url)\n",
    "    \n",
    "    if response.status_code == 200:\n",
    "        soup = BeautifulSoup(response.text, 'html.parser')\n",
    "        \n",
    "        course_cards = soup.find_all('li', class_='products__list-item')\n",
    "        \n",
    "        for course_card in course_cards:\n",
    "            price = course_card.find('span', class_='course-card__price').get_text(strip=True)\n",
    "            \n",
    "            if \"Free\" in price:\n",
    "                title = course_card.find('h3').get_text(strip=True)\n",
    "                \n",
    "                lesson_count_tag = course_card.find('span', class_='course-card__lesson-count')\n",
    "                lessons = lesson_count_tag.get_text(strip=True) if lesson_count_tag else \"Not available\"\n",
    "                \n",
    "                image_url = course_card.find('img', class_='course-card__img')['src']\n",
    "                \n",
    "                course_url = \"https://courses.analyticsvidhya.com\" + course_card.find('a')['href']\n",
    "                \n",
    "                free_courses.append({\n",
    "                    'Title': title,\n",
    "                    'Price': price,\n",
    "                    'Lessons': lessons,\n",
    "                    'Image URL': image_url,\n",
    "                    'Course URL': course_url\n",
    "                })\n",
    "        \n",
    "        print(f\"Page {page_num} scraped successfully.\")\n",
    "    else:\n",
    "        print(f\"Failed to retrieve page {page_num}. Status code: {response.status_code}\")\n",
    "\n",
    "if free_courses:\n",
    "    df = pd.DataFrame(free_courses)\n",
    "    df.to_csv('./free_courses.csv', index=False)\n",
    "    print(\"Data saved to free_courses.csv\")\n",
    "else:\n",
    "    print(\"No data scraped. Please check the scraper.\")\n"
   ]
  },
  {
   "cell_type": "code",
   "execution_count": null,
   "metadata": {},
   "outputs": [],
   "source": []
  },
  {
   "cell_type": "code",
   "execution_count": null,
   "metadata": {},
   "outputs": [],
   "source": []
  }
 ],
 "metadata": {
  "kernelspec": {
   "display_name": "venv",
   "language": "python",
   "name": "python3"
  },
  "language_info": {
   "codemirror_mode": {
    "name": "ipython",
    "version": 3
   },
   "file_extension": ".py",
   "mimetype": "text/x-python",
   "name": "python",
   "nbconvert_exporter": "python",
   "pygments_lexer": "ipython3",
   "version": "3.10.6"
  }
 },
 "nbformat": 4,
 "nbformat_minor": 2
}
